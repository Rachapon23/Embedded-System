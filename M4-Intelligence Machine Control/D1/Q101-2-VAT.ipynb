{
 "cells": [
  {
   "cell_type": "code",
   "execution_count": 1,
   "id": "6b9ead94",
   "metadata": {},
   "outputs": [
    {
     "name": "stdout",
     "output_type": "stream",
     "text": [
      "Calculate pice before inclue VAT 7%\n",
      "Enter your pice: 4321\n",
      "The original price before VAT is 4038.32 bath\n"
     ]
    }
   ],
   "source": [
    "print(\"Calculate pice before inclue VAT 7%\")\n",
    "price = float(input(\"Enter your pice: \"))\n",
    "result = price / 1.07\n",
    "print(f\"The original price before VAT is {result:.2f} bath\")"
   ]
  },
  {
   "cell_type": "code",
   "execution_count": null,
   "id": "ca955397",
   "metadata": {},
   "outputs": [],
   "source": []
  }
 ],
 "metadata": {
  "kernelspec": {
   "display_name": "Python 3 (ipykernel)",
   "language": "python",
   "name": "python3"
  },
  "language_info": {
   "codemirror_mode": {
    "name": "ipython",
    "version": 3
   },
   "file_extension": ".py",
   "mimetype": "text/x-python",
   "name": "python",
   "nbconvert_exporter": "python",
   "pygments_lexer": "ipython3",
   "version": "3.9.12"
  }
 },
 "nbformat": 4,
 "nbformat_minor": 5
}
