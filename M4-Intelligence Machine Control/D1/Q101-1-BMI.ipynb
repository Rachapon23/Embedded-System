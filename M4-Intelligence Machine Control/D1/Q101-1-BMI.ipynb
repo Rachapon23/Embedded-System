{
 "cells": [
  {
   "cell_type": "code",
   "execution_count": 8,
   "id": "d8009b41",
   "metadata": {},
   "outputs": [
    {
     "name": "stdout",
     "output_type": "stream",
     "text": [
      "น้ำหนัก [kg]: 51\n",
      "ส่วนสูง [m]: 1.65\n",
      "Body Mass Index = 18.733\n"
     ]
    }
   ],
   "source": [
    "weight = float(input(\"น้ำหนัก [kg]: \"))\n",
    "height = float(input(\"ส่วนสูง [m]: \"))\n",
    "BMI = weight / (height * height)\n",
    "print(\"Body Mass Index = %.3f\" %BMI)"
   ]
  },
  {
   "cell_type": "code",
   "execution_count": null,
   "id": "a442271c",
   "metadata": {},
   "outputs": [],
   "source": []
  }
 ],
 "metadata": {
  "kernelspec": {
   "display_name": "Python 3 (ipykernel)",
   "language": "python",
   "name": "python3"
  },
  "language_info": {
   "codemirror_mode": {
    "name": "ipython",
    "version": 3
   },
   "file_extension": ".py",
   "mimetype": "text/x-python",
   "name": "python",
   "nbconvert_exporter": "python",
   "pygments_lexer": "ipython3",
   "version": "3.9.12"
  }
 },
 "nbformat": 4,
 "nbformat_minor": 5
}
