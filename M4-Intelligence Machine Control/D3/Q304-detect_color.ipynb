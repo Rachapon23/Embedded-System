{
 "cells": [
  {
   "cell_type": "code",
   "execution_count": 1,
   "id": "ad6be187",
   "metadata": {},
   "outputs": [],
   "source": [
    "import cv2\n",
    "import numpy as np\n",
    "\n",
    "img_name = \"B6216184 Mr.Rachapon Pongkittisak\"\n",
    "cap = cv2.VideoCapture(0)\n",
    "\n",
    "\n",
    "while(cap.isOpened()):\n",
    "    ret, frame = cap.read()\n",
    "\n",
    "    hsv = cv2.cvtColor(frame, cv2.COLOR_BGR2HSV)\n",
    "    lower_red = np.array([161, 155, 84])\n",
    "    upper_red = np.array([179, 255, 255])\n",
    "    \n",
    "    mask = cv2.inRange(hsv, lower_red, upper_red)\n",
    "    res = cv2.bitwise_and(frame, frame, mask=mask)\n",
    "    \n",
    "    cv2.imshow(\"Frame-\"+img_name, frame)\n",
    "    cv2.imshow(\"Mask-\"+img_name, mask)\n",
    "    cv2.imshow(\"Result-\"+img_name, res)\n",
    "    \n",
    "    \n",
    "    if(cv2.waitKey(1) == ord(\"q\")):\n",
    "        break\n",
    "            \n",
    "cap.release()\n",
    "cv2.destroyAllWindows()\n"
   ]
  }
 ],
 "metadata": {
  "kernelspec": {
   "display_name": "Python 3 (ipykernel)",
   "language": "python",
   "name": "python3"
  },
  "language_info": {
   "codemirror_mode": {
    "name": "ipython",
    "version": 3
   },
   "file_extension": ".py",
   "mimetype": "text/x-python",
   "name": "python",
   "nbconvert_exporter": "python",
   "pygments_lexer": "ipython3",
   "version": "3.9.12"
  }
 },
 "nbformat": 4,
 "nbformat_minor": 5
}
