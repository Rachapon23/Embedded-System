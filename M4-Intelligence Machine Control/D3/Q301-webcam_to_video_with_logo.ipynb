{
 "cells": [
  {
   "cell_type": "code",
   "execution_count": null,
   "id": "abd33b0c",
   "metadata": {},
   "outputs": [
    {
     "name": "stdout",
     "output_type": "stream",
     "text": [
      "current time: 22 June 2022\n"
     ]
    }
   ],
   "source": [
    "import cv2\n",
    "import datetime\n",
    "import numpy as np\n",
    "from PIL import Image\n",
    "\n",
    "cap = cv2.VideoCapture(0)\n",
    "logo = Image.open(r\".\\image\\amongus.jpg\")\n",
    "logo.thumbnail((200, 200))\n",
    "\n",
    "ct = datetime.datetime.now()\n",
    "ct = ct.strftime(\"%d %B %Y\")\n",
    "print(\"current time:\", ct)\n",
    "\n",
    "while(cap.isOpened()):\n",
    "    ret, opencv_image = cap.read()\n",
    "    \n",
    "    color_coverted = cv2.cvtColor(opencv_image, cv2.COLOR_BGR2RGB)\n",
    "    logo_image = Image.fromarray(color_coverted)\n",
    "    logo_image.paste(logo, (0,0))\n",
    "    \n",
    "    numpy_image = np.array(logo_image)\n",
    "    image = cv2.cvtColor(numpy_image, cv2.COLOR_RGB2BGR)\n",
    "    \n",
    "    pts = np.array([[0,185], [200,185], [200,220], [0,220]], np.int32)\n",
    "    cv2.fillPoly(image, [pts], (0,0,0))\n",
    "    \n",
    "    global ct\n",
    "    font = cv2.FONT_HERSHEY_SIMPLEX\n",
    "    cv2.putText(\n",
    "        image, ct, \n",
    "        (5, 210), font, 0.8, \n",
    "        (255,255,255), 2\n",
    "    )\n",
    "    \n",
    "    cv2.imshow(\"frame\", image)\n",
    "    if(cv2.waitKey(1) == ord(\"q\")):\n",
    "        break\n",
    "\n",
    "cap.release()\n",
    "cv2.destroyAllWindows()"
   ]
  },
  {
   "cell_type": "code",
   "execution_count": null,
   "id": "5320d499",
   "metadata": {},
   "outputs": [],
   "source": []
  }
 ],
 "metadata": {
  "kernelspec": {
   "display_name": "Python 3 (ipykernel)",
   "language": "python",
   "name": "python3"
  },
  "language_info": {
   "codemirror_mode": {
    "name": "ipython",
    "version": 3
   },
   "file_extension": ".py",
   "mimetype": "text/x-python",
   "name": "python",
   "nbconvert_exporter": "python",
   "pygments_lexer": "ipython3",
   "version": "3.9.12"
  }
 },
 "nbformat": 4,
 "nbformat_minor": 5
}
