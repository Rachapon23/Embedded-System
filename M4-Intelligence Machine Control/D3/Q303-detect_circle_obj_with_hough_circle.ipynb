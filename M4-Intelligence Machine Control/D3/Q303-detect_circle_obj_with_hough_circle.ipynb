{
 "cells": [
  {
   "cell_type": "code",
   "execution_count": 1,
   "id": "10eeeff9",
   "metadata": {},
   "outputs": [
    {
     "name": "stdout",
     "output_type": "stream",
     "text": [
      "Number of coin: 10\n"
     ]
    }
   ],
   "source": [
    "import cv2\n",
    "import numpy as np\n",
    "\n",
    "img_name = \"B6216184 Mr.Rachapon Pongkittisak\"\n",
    "img = cv2.imread(\"./image/coin-r.jpg\")\n",
    "cv2.imshow(\"Origianl Image \"+img_name, img)\n",
    "\n",
    "param1 = 110\n",
    "param2 = 25\n",
    "minRadius = 40\n",
    "maxRadius = 60\n",
    "minDist = 25\n",
    "\n",
    "img = cv2.medianBlur(img, 5)\n",
    "cimg = cv2.cvtColor(img, cv2.COLOR_BGR2GRAY)\n",
    "circles = cv2.HoughCircles(cimg, cv2.HOUGH_GRADIENT, \n",
    "                           dp=1, minDist=minDist, \n",
    "                           param1=param1, param2=param2, \n",
    "                           minRadius=minRadius , maxRadius=maxRadius) \n",
    "coin = 0\n",
    "if circles is not None:\n",
    "    circles = np.uint16(np.around(circles))\n",
    "    cimg = cv2.cvtColor(cimg, cv2.COLOR_GRAY2BGR)\n",
    "    for i in circles[0,:]:\n",
    "        cv2.circle(cimg, (i[0],i[1]), i[2], (0,0,255), 2)\n",
    "        cv2.circle(cimg, (i[0],i[1]),   2, (0,0,255), 3)\n",
    "        coin+=1\n",
    "cv2.imshow(\"Detected circles \"+img_name, cimg)\n",
    "print(\"Number of coin: \"+str(coin))\n",
    "cv2.waitKey(0)\n",
    "cv2.destroyAllWindows()"
   ]
  },
  {
   "cell_type": "code",
   "execution_count": null,
   "id": "b458c2ac",
   "metadata": {},
   "outputs": [],
   "source": []
  }
 ],
 "metadata": {
  "kernelspec": {
   "display_name": "Python 3 (ipykernel)",
   "language": "python",
   "name": "python3"
  },
  "language_info": {
   "codemirror_mode": {
    "name": "ipython",
    "version": 3
   },
   "file_extension": ".py",
   "mimetype": "text/x-python",
   "name": "python",
   "nbconvert_exporter": "python",
   "pygments_lexer": "ipython3",
   "version": "3.9.12"
  }
 },
 "nbformat": 4,
 "nbformat_minor": 5
}
