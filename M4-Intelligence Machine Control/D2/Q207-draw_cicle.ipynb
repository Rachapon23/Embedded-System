{
 "cells": [
  {
   "cell_type": "code",
   "execution_count": null,
   "id": "204ac312",
   "metadata": {},
   "outputs": [
    {
     "name": "stdout",
     "output_type": "stream",
     "text": [
      "213 440, r=127\n",
      "337 198, r=127\n",
      "538 340, r=127\n",
      "393 451, r=127\n"
     ]
    }
   ],
   "source": [
    "import cv2\n",
    "import numpy as np\n",
    "\n",
    "# img_name = \"Mission7Pic1_by.B6216184.Mr.Rachapon\"\n",
    "\n",
    "# # get draw circle on img that mouse cliking\n",
    "# def click_event(event, x, y, flags, param):\n",
    "#     if(event == cv2.EVENT_LBUTTONDOWN):\n",
    "#         print(x, y)\n",
    "#         global img\n",
    "#         global img_name\n",
    "#         overlay = img.copy()\n",
    "#         cv2.circle(overlay, (x,y), 100, (0, 200, 200), -1)\n",
    "#         alpha = 0.4\n",
    "#         img = cv2.addWeighted(overlay, alpha, img, 1 - alpha, 0)\n",
    "#         cv2.imshow(img_name, img)\n",
    "\n",
    "# img = cv2.imread(\"./image/lena.jpg\")       \n",
    "\n",
    "# cv2.imshow(img_name, img)\n",
    "# cv2.setMouseCallback(img_name, click_event)\n",
    "\n",
    "# cv2.waitKey(0)\n",
    "# cv2.destroyAllWindows()\n",
    "\n",
    "img_name = \"Mission7Pic2_by.B6216184.Mr.Rachapon\"\n",
    "\n",
    "# get draw circle on img that mouse cliking\n",
    "def click_event(event, x, y, flags, param):\n",
    "    if(event == cv2.EVENT_LBUTTONDOWN):\n",
    "        print(x, y, end=\", \")\n",
    "        global img\n",
    "        global img_name\n",
    "        overlay = img.copy()\n",
    "        \n",
    "        height = img.shape[0]\n",
    "        width = img.shape[1]\n",
    "        circle_percent = 10\n",
    "        circle_size = ((height * width) * circle_percent) / 100\n",
    "        circle_radian = int(np.sqrt(circle_size / np.pi))\n",
    "        print(\"r=\"+str(circle_radian))\n",
    "        cv2.circle(overlay, (x,y), circle_radian, (0, 0, 200), -1)\n",
    "        alpha = 0.4\n",
    "        img = cv2.addWeighted(\n",
    "            overlay, \n",
    "            alpha, img, \n",
    "            1 - alpha, \n",
    "            0\n",
    "        )\n",
    "        cv2.imshow(img_name, img)\n",
    "\n",
    "img = cv2.imread(\"./image/blue_dargon.png\")       \n",
    "\n",
    "cv2.imshow(img_name, img)\n",
    "cv2.setMouseCallback(img_name, click_event)\n",
    "\n",
    "cv2.waitKey(0)\n",
    "cv2.destroyAllWindows()"
   ]
  }
 ],
 "metadata": {
  "kernelspec": {
   "display_name": "Python 3 (ipykernel)",
   "language": "python",
   "name": "python3"
  },
  "language_info": {
   "codemirror_mode": {
    "name": "ipython",
    "version": 3
   },
   "file_extension": ".py",
   "mimetype": "text/x-python",
   "name": "python",
   "nbconvert_exporter": "python",
   "pygments_lexer": "ipython3",
   "version": "3.9.12"
  }
 },
 "nbformat": 4,
 "nbformat_minor": 5
}
