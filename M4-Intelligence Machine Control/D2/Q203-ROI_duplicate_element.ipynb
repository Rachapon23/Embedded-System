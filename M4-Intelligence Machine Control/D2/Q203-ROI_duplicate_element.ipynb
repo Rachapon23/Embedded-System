{
 "cells": [
  {
   "cell_type": "code",
   "execution_count": null,
   "id": "2323a09a",
   "metadata": {},
   "outputs": [],
   "source": [
    "import cv2\n",
    "import imutils\n",
    "\n",
    "img = cv2.imread(\"./image/bird.jpg\")\n",
    "bird = img[90:650, 460:800]\n",
    "cv2.imshow(\"Image Origin\", img)\n",
    "\n",
    "birdRotate = cv2.rotate(bird, cv2.ROTATE_180)\n",
    "bridResize = imutils.resize(birdRotate, width=100)\n",
    "\n",
    "img[100:660, 100:440] = birdRotate\n",
    "img[500:664, 400:500] = bridResize\n",
    "\n",
    "cv2.imshow(\"Image Modified\", img)\n",
    "\n",
    "cv2.waitKey(0)\n",
    "cv2.destroyAllWindows()"
   ]
  },
  {
   "cell_type": "code",
   "execution_count": null,
   "id": "59f8b4a9",
   "metadata": {},
   "outputs": [],
   "source": []
  }
 ],
 "metadata": {
  "kernelspec": {
   "display_name": "Python 3 (ipykernel)",
   "language": "python",
   "name": "python3"
  },
  "language_info": {
   "codemirror_mode": {
    "name": "ipython",
    "version": 3
   },
   "file_extension": ".py",
   "mimetype": "text/x-python",
   "name": "python",
   "nbconvert_exporter": "python",
   "pygments_lexer": "ipython3",
   "version": "3.9.12"
  }
 },
 "nbformat": 4,
 "nbformat_minor": 5
}
