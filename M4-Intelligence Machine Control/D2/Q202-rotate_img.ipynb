{
 "cells": [
  {
   "cell_type": "code",
   "execution_count": null,
   "id": "69f97018",
   "metadata": {},
   "outputs": [
    {
     "name": "stdout",
     "output_type": "stream",
     "text": [
      "birthday-1208233_640_flip.jpg\n",
      "blue-1845901_640_flip.jpg\n",
      "dream-4827288_640_flip.jpg\n",
      "fruit-1275551_640_flip.jpg\n",
      "love-3061483_640_flip.jpg\n",
      "man-4875665_640_flip.jpg\n",
      "store-1245758_640_flip.jpg\n",
      "tartan-track-2678544_640_flip.jpg\n",
      "typewriter-1170657_640_flip.jpg\n"
     ]
    }
   ],
   "source": [
    "import cv2\n",
    "import os\n",
    "\n",
    "for root, dirs, files in os.walk(\"./flips/\"):\n",
    "    for filename in files:\n",
    "        print(filename)\n",
    "        imgOrigin = cv2.imread(\"./flips/\"+filename)\n",
    "        imgRotate = cv2.rotate(imgOrigin, cv2.ROTATE_180)\n",
    "\n",
    "        cv2.imshow(filename, imgRotate)\n",
    "        cv2.imwrite(\"./flips/\"+filename, imgRotate)\n",
    "\n",
    "cv2.waitKey(0)\n",
    "cv2.destroyAllWindows() "
   ]
  },
  {
   "cell_type": "code",
   "execution_count": null,
   "id": "39a8f926",
   "metadata": {},
   "outputs": [],
   "source": []
  }
 ],
 "metadata": {
  "kernelspec": {
   "display_name": "Python 3 (ipykernel)",
   "language": "python",
   "name": "python3"
  },
  "language_info": {
   "codemirror_mode": {
    "name": "ipython",
    "version": 3
   },
   "file_extension": ".py",
   "mimetype": "text/x-python",
   "name": "python",
   "nbconvert_exporter": "python",
   "pygments_lexer": "ipython3",
   "version": "3.9.12"
  }
 },
 "nbformat": 4,
 "nbformat_minor": 5
}
