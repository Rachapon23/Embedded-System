{
 "cells": [
  {
   "cell_type": "code",
   "execution_count": null,
   "id": "1daab451",
   "metadata": {},
   "outputs": [
    {
     "name": "stdout",
     "output_type": "stream",
     "text": [
      "[[ 49 122 153 208]\n",
      " [289 142 204 211]\n",
      " [484  31 210 214]\n",
      " [711  46 209 219]\n",
      " [934  15 227 226]]\n"
     ]
    }
   ],
   "source": [
    "import cv2\n",
    "\n",
    "img_name = \"Mission8Pic1_by.B6216184.Mr.Rachapon\"\n",
    "img = cv2.imread(\"./image/the_quarry.jpeg\")\n",
    "ROIS = cv2.selectROIs(img_name+\" - Master\", img)\n",
    "print(ROIS)\n",
    "crop_number = 0\n",
    "\n",
    "for corodinate in ROIS:\n",
    "    x1 = corodinate[0]\n",
    "    y1 = corodinate[1]\n",
    "    x2 = corodinate[2]\n",
    "    y2 = corodinate[3]\n",
    "    imgCrop = img[y1:y1+y2, x1:x1+x2]\n",
    "    cv2.imshow(\"ImgCrop No_\"+str(crop_number), imgCrop)\n",
    "    crop_number += 1\n",
    "\n",
    "cv2.waitKey(0)\n",
    "cv2.destroyAllWindows()"
   ]
  },
  {
   "cell_type": "code",
   "execution_count": null,
   "id": "227629a7",
   "metadata": {},
   "outputs": [],
   "source": []
  }
 ],
 "metadata": {
  "kernelspec": {
   "display_name": "Python 3 (ipykernel)",
   "language": "python",
   "name": "python3"
  },
  "language_info": {
   "codemirror_mode": {
    "name": "ipython",
    "version": 3
   },
   "file_extension": ".py",
   "mimetype": "text/x-python",
   "name": "python",
   "nbconvert_exporter": "python",
   "pygments_lexer": "ipython3",
   "version": "3.9.12"
  }
 },
 "nbformat": 4,
 "nbformat_minor": 5
}
