{
 "cells": [
  {
   "cell_type": "code",
   "execution_count": 1,
   "id": "1af6be33",
   "metadata": {},
   "outputs": [
    {
     "name": "stdout",
     "output_type": "stream",
     "text": [
      "Enter your income: 456789\n",
      "You must pay tax 23,178.90 bath\n"
     ]
    }
   ],
   "source": [
    "income = float(input(\"Enter your income: \"))\n",
    "tax = 0\n",
    "remain = income\n",
    "\n",
    "if(income > 150000):\n",
    "    remain -= 150000\n",
    "    if remain < 150000:\n",
    "        tax += remain * 0.05\n",
    "    else:\n",
    "        tax += 150000 * 0.05\n",
    "        remain -= 150000\n",
    "        \n",
    "        if remain > 0:\n",
    "            tax += remain * 0.1\n",
    "            \n",
    "else:\n",
    "    tax = 0\n",
    "print(f\"You must pay tax {tax:,.2f} bath\")\n",
    "    "
   ]
  }
 ],
 "metadata": {
  "kernelspec": {
   "display_name": "Python 3 (ipykernel)",
   "language": "python",
   "name": "python3"
  },
  "language_info": {
   "codemirror_mode": {
    "name": "ipython",
    "version": 3
   },
   "file_extension": ".py",
   "mimetype": "text/x-python",
   "name": "python",
   "nbconvert_exporter": "python",
   "pygments_lexer": "ipython3",
   "version": "3.9.12"
  }
 },
 "nbformat": 4,
 "nbformat_minor": 5
}
