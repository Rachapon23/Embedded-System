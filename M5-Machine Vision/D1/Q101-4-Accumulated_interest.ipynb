{
 "cells": [
  {
   "cell_type": "code",
   "execution_count": 1,
   "id": "21541e67",
   "metadata": {
    "scrolled": false
   },
   "outputs": [
    {
     "name": "stdout",
     "output_type": "stream",
     "text": [
      "Enter your money: 1234\n",
      "Enter your interest rate[%]: 3\n",
      "Enter number of year: 10\n",
      "installments: 10.283333333333333\n",
      "\n",
      "\n",
      "Total interest: 235 bath\n"
     ]
    }
   ],
   "source": [
    "import datetime\n",
    "from calendar import monthrange\n",
    "\n",
    "money = float(input(\"Enter your money: \"))\n",
    "rate = float(input(\"Enter your interest rate[%]: \"))\n",
    "year = float(input(\"Enter number of year: \"))\n",
    "\n",
    "remain = money\n",
    "\n",
    "if year >= 1:\n",
    "    year *= 12\n",
    "    \n",
    "installments = money /  year\n",
    "\n",
    "print(\"installments: \"+str(installments)+\"\\n\")\n",
    "\n",
    "x = datetime.datetime.now()\n",
    "this_month = int(x.strftime(\"%m\")) + 1\n",
    "this_year = int(x.strftime(\"%Y\"))\n",
    "\n",
    "accumulated_interest = 0\n",
    "\n",
    "# print(\"Month/Year\\tInstallments\\t\\tPay Interest\\t\\tDecreased Money\\t\\tRemain\\n\")\n",
    "\n",
    "if year > 0 and year < 1:\n",
    "    year *= 10\n",
    "\n",
    "while remain > 0:\n",
    "    \n",
    "    if this_month > 12:\n",
    "        this_month = 1\n",
    "        this_year += 1\n",
    "    \n",
    "    nday_mounth = monthrange(this_year, this_month)[1]\n",
    "    \n",
    "    pay_interest = remain * rate * nday_mounth / 36500\n",
    "    accumulated_interest += pay_interest\n",
    "    \n",
    "    decreased_money = installments - pay_interest\n",
    "    remain -= decreased_money\n",
    "    \n",
    "#     print(str(this_month)+\"/\"+str(this_year)+\"\\t\"+\n",
    "#           f\"\\t{installments:.2f}\"+\n",
    "#           f\"\\t\\t\\t{pay_interest:.2f}\"+\n",
    "#           f\"\\t\\t\\t{decreased_money:.2f}\"+\n",
    "#           f\"\\t\\t\\t{remain:.2f}\"\n",
    "#     )\n",
    "    \n",
    "    this_month += 1\n",
    "    \n",
    "    \n",
    "print(f\"\\nTotal interest: {int(accumulated_interest + 0.5)} bath\")"
   ]
  },
  {
   "cell_type": "code",
   "execution_count": null,
   "id": "da6cd96e",
   "metadata": {},
   "outputs": [],
   "source": []
  },
  {
   "cell_type": "code",
   "execution_count": null,
   "id": "9724d344",
   "metadata": {},
   "outputs": [],
   "source": []
  }
 ],
 "metadata": {
  "kernelspec": {
   "display_name": "Python 3 (ipykernel)",
   "language": "python",
   "name": "python3"
  },
  "language_info": {
   "codemirror_mode": {
    "name": "ipython",
    "version": 3
   },
   "file_extension": ".py",
   "mimetype": "text/x-python",
   "name": "python",
   "nbconvert_exporter": "python",
   "pygments_lexer": "ipython3",
   "version": "3.9.12"
  }
 },
 "nbformat": 4,
 "nbformat_minor": 5
}
