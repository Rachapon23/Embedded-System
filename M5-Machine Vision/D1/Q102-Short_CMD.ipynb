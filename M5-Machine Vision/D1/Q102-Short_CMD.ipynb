{
 "cells": [
  {
   "cell_type": "code",
   "execution_count": 3,
   "id": "fca20b9f",
   "metadata": {},
   "outputs": [
    {
     "name": "stdout",
     "output_type": "stream",
     "text": [
      "2001 Rachapon\n",
      "Rachapon 2001\n"
     ]
    }
   ],
   "source": [
    "x,y = 2001, \"Rachapon\"\n",
    "print(x, y)\n",
    "x, y = y, x\n",
    "print(x, y)"
   ]
  },
  {
   "cell_type": "code",
   "execution_count": 12,
   "id": "00ac0ab4",
   "metadata": {},
   "outputs": [
    {
     "name": "stdout",
     "output_type": "stream",
     "text": [
      "IHGFEDCBA\n"
     ]
    }
   ],
   "source": [
    "name = \"ABCDEFGHI\"\n",
    "print(name[::-1])"
   ]
  },
  {
   "cell_type": "code",
   "execution_count": 13,
   "id": "65f00225",
   "metadata": {},
   "outputs": [
    {
     "name": "stdout",
     "output_type": "stream",
     "text": [
      "HI MY NAME IS OHM\n"
     ]
    }
   ],
   "source": [
    "mylist = [\"HI\", \"MY\", \"NAME\", \"IS\", \"OHM\"]\n",
    "print(\" \".join(mylist))"
   ]
  },
  {
   "cell_type": "code",
   "execution_count": 17,
   "id": "c9306b90",
   "metadata": {},
   "outputs": [
    {
     "name": "stdout",
     "output_type": "stream",
     "text": [
      "True\n",
      "False\n"
     ]
    }
   ],
   "source": [
    "num = 5\n",
    "result = 2 < num == 5\n",
    "print(result)\n",
    "\n",
    "result = 6 > num < 2\n",
    "print(result)"
   ]
  },
  {
   "cell_type": "code",
   "execution_count": 19,
   "id": "aecd8209",
   "metadata": {},
   "outputs": [
    {
     "name": "stdout",
     "output_type": "stream",
     "text": [
      "<module 'os' from 'C:\\\\ProgramData\\\\Miniconda3\\\\lib\\\\os.py'>\n",
      "<module 'datetime' from 'C:\\\\ProgramData\\\\Miniconda3\\\\lib\\\\datetime.py'>\n"
     ]
    }
   ],
   "source": [
    "import os\n",
    "import datetime\n",
    "\n",
    "print(os)\n",
    "print(datetime)"
   ]
  },
  {
   "cell_type": "code",
   "execution_count": 20,
   "id": "5673e756",
   "metadata": {},
   "outputs": [
    {
     "name": "stdout",
     "output_type": "stream",
     "text": [
      "str1 str2 str3\n"
     ]
    }
   ],
   "source": [
    "def mystring():\n",
    "    return \"str1\", \"str2\", \"str3\"\n",
    "\n",
    "x, y, z = mystring()\n",
    "print(f\"{x} {y} {z}\")"
   ]
  },
  {
   "cell_type": "code",
   "execution_count": 36,
   "id": "f92551ef",
   "metadata": {},
   "outputs": [
    {
     "name": "stdout",
     "output_type": "stream",
     "text": [
      "5\n",
      "3\n"
     ]
    }
   ],
   "source": [
    "numlist = [\n",
    "    1,2,3,4,\n",
    "    2,2,3,1,\n",
    "    4,4,4,5,\n",
    "    5,5,5,5\n",
    "]\n",
    "\n",
    "numset = [1, 2, 3, 4, 5, 3]\n",
    "\n",
    "print(max(set(numlist), key=numlist.count))\n",
    "\n",
    "print(max(set(numset), key=numset.count))"
   ]
  },
  {
   "cell_type": "code",
   "execution_count": 38,
   "id": "a10fd725",
   "metadata": {},
   "outputs": [
    {
     "name": "stdout",
     "output_type": "stream",
     "text": [
      "60\n"
     ]
    }
   ],
   "source": [
    "import sys\n",
    "string = \"hello world\"\n",
    "print(sys.getsizeof(string))"
   ]
  },
  {
   "cell_type": "code",
   "execution_count": 40,
   "id": "cd2bf86a",
   "metadata": {},
   "outputs": [
    {
     "name": "stdout",
     "output_type": "stream",
     "text": [
      "HI HI HI HI HI HI HI HI HI HI \n"
     ]
    }
   ],
   "source": [
    "mystr = \"HI \"\n",
    "print(mystr * 10)"
   ]
  },
  {
   "cell_type": "code",
   "execution_count": 1,
   "id": "1475deb5",
   "metadata": {},
   "outputs": [
    {
     "name": "stdout",
     "output_type": "stream",
     "text": [
      "True\n"
     ]
    }
   ],
   "source": [
    "mystring = \"Messi\"\n",
    "result_str = \"es\" in mystring\n",
    "print(result_str)"
   ]
  },
  {
   "cell_type": "code",
   "execution_count": null,
   "id": "be1f52ac",
   "metadata": {},
   "outputs": [],
   "source": []
  }
 ],
 "metadata": {
  "kernelspec": {
   "display_name": "Python 3 (ipykernel)",
   "language": "python",
   "name": "python3"
  },
  "language_info": {
   "codemirror_mode": {
    "name": "ipython",
    "version": 3
   },
   "file_extension": ".py",
   "mimetype": "text/x-python",
   "name": "python",
   "nbconvert_exporter": "python",
   "pygments_lexer": "ipython3",
   "version": "3.9.12"
  }
 },
 "nbformat": 4,
 "nbformat_minor": 5
}
