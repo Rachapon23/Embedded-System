{
 "cells": [
  {
   "cell_type": "code",
   "execution_count": 1,
   "id": "48ddd59f",
   "metadata": {},
   "outputs": [],
   "source": [
    "from PIL import  Image, ImageDraw, ImageFont\n",
    "\n",
    "img = Image.open(\"./image/moon.jpg\")\n",
    "logo = Image.open(\"./image/Zenless_Zone_Zero_logo.png\")\n",
    "newsize = (150, 150)\n",
    "logo = logo.resize(newsize)\n",
    "img_copy = img.copy()\n",
    "\n",
    "position_logo = (820, 470)\n",
    "img_copy.paste(logo, position_logo, logo)\n",
    "\n",
    "position_name = (780, 620)\n",
    "t_font = ImageFont.truetype(\"./image/THSarabunNew.ttf\", 36)\n",
    "t_color = \"rgb(153, 255, 255)\"\n",
    "draw = ImageDraw.Draw(img_copy)\n",
    "draw.text(\n",
    "    position_name, \n",
    "    \"นายรชพล พงศ์กิตติศักดิ์\", \n",
    "    font=t_font,\n",
    "    fill=t_color\n",
    ")\n",
    "\n",
    "img_copy.save(\"./image/output.jpg\")\n",
    "img_copy.show()"
   ]
  },
  {
   "cell_type": "code",
   "execution_count": null,
   "id": "e151194d",
   "metadata": {},
   "outputs": [],
   "source": []
  }
 ],
 "metadata": {
  "kernelspec": {
   "display_name": "Python 3 (ipykernel)",
   "language": "python",
   "name": "python3"
  },
  "language_info": {
   "codemirror_mode": {
    "name": "ipython",
    "version": 3
   },
   "file_extension": ".py",
   "mimetype": "text/x-python",
   "name": "python",
   "nbconvert_exporter": "python",
   "pygments_lexer": "ipython3",
   "version": "3.9.12"
  }
 },
 "nbformat": 4,
 "nbformat_minor": 5
}
