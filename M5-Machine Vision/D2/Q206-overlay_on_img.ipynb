{
 "cells": [
  {
   "cell_type": "code",
   "execution_count": null,
   "id": "fab364d9",
   "metadata": {},
   "outputs": [],
   "source": [
    "import cv2\n",
    "import numpy as np\n",
    "\n",
    "img_name = \"Mission6Pic2_by.B6216184.Mr.Rachapon\"\n",
    "\n",
    "# handle updated img\n",
    "class updateImg:\n",
    "    image_new = None\n",
    "    def setImg(self, img):\n",
    "        self.image_new = img\n",
    "    def getUpdatedImg(self):\n",
    "        return self.image_new\n",
    "\n",
    "# get current position on img that mouse cliking\n",
    "def click_event(event, x, y, flags, param):\n",
    "    if(event == cv2.EVENT_LBUTTONDOWN):\n",
    "        refpt = []\n",
    "        refpt.append([x, y])\n",
    "        font = cv2.FONT_HERSHEY_SIMPLEX\n",
    "        current_img = upimg.getUpdatedImg()\n",
    "        image_new = cv2.putText(\n",
    "            current_img, \n",
    "            str(x)+\",\"+str(y), \n",
    "            (x,y), font, 0.5, \n",
    "            (255,255,0), 2\n",
    "        )\n",
    "        upimg.setImg(image_new)\n",
    "        current_img = upimg.getUpdatedImg()\n",
    "        cv2.imshow(img_name, current_img)\n",
    "\n",
    "img = cv2.imread(\"./image/longRoad.jpg\")       \n",
    "upimg = updateImg()    \n",
    "\n",
    "alpha = 0.3\n",
    "# red overlay\n",
    "overlay = img.copy()\n",
    "pts = np.array([[524,420], [578,420], [497, 520], [228, 520]], np.int32)\n",
    "pts = pts.reshape((-1, 1, 2))\n",
    "cv2.fillPoly(overlay, [pts], (0,0,255))\n",
    "image_new = cv2.addWeighted(overlay, alpha, img, 1 - alpha, 0)\n",
    "\n",
    "# blue overlay\n",
    "overylay = image_new.copy()\n",
    "pts = np.array([[630,420], [698,420], [1070, 520], [728, 520]], np.int32)\n",
    "pts = pts.reshape((-1, 1, 2))\n",
    "cv2.fillPoly(overlay, [pts], (255,0,0))\n",
    "image_new = cv2.addWeighted(overlay, alpha, img, 1 - alpha, 0)\n",
    "\n",
    "upimg.setImg(image_new)\n",
    "current_img = upimg.getUpdatedImg()\n",
    "\n",
    "cv2.imshow(img_name, current_img)\n",
    "cv2.setMouseCallback(img_name, click_event)\n",
    "\n",
    "cv2.waitKey(0)\n",
    "cv2.destroyAllWindows()"
   ]
  },
  {
   "cell_type": "code",
   "execution_count": null,
   "id": "3cb58b66",
   "metadata": {},
   "outputs": [],
   "source": []
  }
 ],
 "metadata": {
  "kernelspec": {
   "display_name": "Python 3 (ipykernel)",
   "language": "python",
   "name": "python3"
  },
  "language_info": {
   "codemirror_mode": {
    "name": "ipython",
    "version": 3
   },
   "file_extension": ".py",
   "mimetype": "text/x-python",
   "name": "python",
   "nbconvert_exporter": "python",
   "pygments_lexer": "ipython3",
   "version": "3.9.12"
  }
 },
 "nbformat": 4,
 "nbformat_minor": 5
}
