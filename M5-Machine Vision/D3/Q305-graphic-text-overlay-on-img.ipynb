{
 "cells": [
  {
   "cell_type": "code",
   "execution_count": null,
   "id": "665adfd2",
   "metadata": {},
   "outputs": [],
   "source": [
    "# ./image/rainbow-text.png\n",
    "# ./image/people-3.jpg\n",
    "import cv2\n",
    "\n",
    "px = 300 \n",
    "py = 530 \n",
    "\n",
    "img_name = \"B6216184 Mr.Rachapon Pongkittisak\"\n",
    "img1 = cv2.imread(\"./image/people3.jpg\")\n",
    "img2 = cv2.imread(\"./image/rainbow-text.png\")\n",
    "cv2.imshow(\"Original\"+img_name, img1)\n",
    "cv2.imshow(\"Logo-\"+img_name, img2)\n",
    "\n",
    "rows, cols, channel = img2.shape\n",
    "print(\"Original shape -> x=\",img1.shape[1], \",y=\",img1.shape[0])\n",
    "print(\"Logo shape -> x=\", cols, \",y=\", rows)\n",
    "\n",
    "roi = img1[py:rows+py, px:cols+px]\n",
    "\n",
    "img2gray = cv2.cvtColor(img2, cv2.COLOR_BGR2GRAY) #covet img to gray for use in mask \n",
    "ret, mask = cv2.threshold(img2gray, 230, 255, cv2.THRESH_BINARY_INV) # making mask by detecting light intensity and make it to invert binnay value\n",
    "mask_inv = cv2.bitwise_not(mask)\n",
    "\n",
    "# cv2.imshow(\"inv_bin\",mask)\n",
    "# cv2.imshow(\"inv_mask\",inv_mask)\n",
    "\n",
    "img1_bg = cv2.bitwise_and(roi, roi, mask=mask_inv)\n",
    "# cv2.imshow(\"img_bg\",img1_bg)\n",
    "\n",
    "img2_fg = cv2.bitwise_and(img2, img2, mask=mask)\n",
    "# cv2.imshow(\"img_fg\",img2_fg)\n",
    "\n",
    "out_img = cv2.add(img1_bg, img2_fg)\n",
    "# cv2.imshow(\"out_img\",out_img)\n",
    "\n",
    "img1[py:rows+py, px:cols+px] = out_img\n",
    "cv2.imshow(\"Result-\"+img_name, img1)\n",
    "\n",
    "cv2.waitKey(0)\n",
    "cv2.destroyAllWindows()\n",
    "\n"
   ]
  },
  {
   "cell_type": "code",
   "execution_count": null,
   "id": "d8570050",
   "metadata": {},
   "outputs": [],
   "source": []
  }
 ],
 "metadata": {
  "kernelspec": {
   "display_name": "Python 3 (ipykernel)",
   "language": "python",
   "name": "python3"
  },
  "language_info": {
   "codemirror_mode": {
    "name": "ipython",
    "version": 3
   },
   "file_extension": ".py",
   "mimetype": "text/x-python",
   "name": "python",
   "nbconvert_exporter": "python",
   "pygments_lexer": "ipython3",
   "version": "3.9.12"
  }
 },
 "nbformat": 4,
 "nbformat_minor": 5
}
